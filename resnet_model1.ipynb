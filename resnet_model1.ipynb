{
 "cells": [
  {
   "cell_type": "code",
   "execution_count": 1,
   "metadata": {
    "collapsed": false
   },
   "outputs": [
    {
     "name": "stdout",
     "output_type": "stream",
     "text": [
      "Wall time: 24.7 s\n"
     ]
    }
   ],
   "source": [
    "%%time\n",
    "from load_planesnet import load_planesnet\n",
    "from models import Resnet_Model, Model_Training\n",
    "import numpy as np\n",
    "import tensorflow as tf\n",
    "import matplotlib.pyplot as plt\n",
    "%matplotlib inline"
   ]
  },
  {
   "cell_type": "code",
   "execution_count": 2,
   "metadata": {
    "collapsed": false
   },
   "outputs": [
    {
     "name": "stdout",
     "output_type": "stream",
     "text": [
      "Wall time: 947 ms\n"
     ]
    }
   ],
   "source": [
    "%%time\n",
    "train_data, train_labels, test_data, test_labels = load_planesnet(r'planesnet.pklz', 20000, 777)"
   ]
  },
  {
   "cell_type": "code",
   "execution_count": null,
   "metadata": {
    "collapsed": false
   },
   "outputs": [
    {
     "name": "stdout",
     "output_type": "stream",
     "text": [
      " 0001 Avg. cost = 0.28273 Train Accuracy:  0.981200 Test Accuracy:  0.898750\n",
      "Epoch: 0002 Avg. cost = 0.13821 Train Accuracy:  0.982450 Test Accuracy:  0.908125\n",
      "Epoch: 0003 Avg. cost = 0.10641 Train Accuracy:  0.986600 Test Accuracy:  0.911250\n",
      "Epoch: 0004 Avg. cost = 0.09180 Train Accuracy:  0.993050 Test Accuracy:  0.917125\n",
      "Epoch: 0005 Avg. cost = 0.06527 Train Accuracy:  0.993000 Test Accuracy:  0.917250\n",
      "Epoch: 0006 Avg. cost = 0.06729 Train Accuracy:  0.994500 Test Accuracy:  0.927125\n",
      "Epoch: 0007 Avg. cost = 0.05077 Train Accuracy:  0.995600 Test Accuracy:  0.943750\n",
      "Epoch: 0008 Avg. cost = 0.04283 Train Accuracy:  0.995300 Test Accuracy:  0.942250\n",
      "Epoch: 0009 Avg. cost = 0.04050 Train Accuracy:  0.997450 Test Accuracy:  0.935875\n",
      "Epoch: 0010 Avg. cost = 0.03718 Train Accuracy:  0.997200 Test Accuracy:  0.940625\n",
      "Epoch: 0011 Avg. cost = 0.04322 Train Accuracy:  0.995650 Test Accuracy:  0.947000\n",
      "Epoch: 0012 Avg. cost = 0.03547 Train Accuracy:  0.998600 Test Accuracy:  0.938625\n",
      "Epoch: 0013 Avg. cost = 0.02872 Train Accuracy:  0.997750 Test Accuracy:  0.944875\n",
      "Epoch: 0014 Avg. cost = 0.03309 Train Accuracy:  0.996650 Test Accuracy:  0.949000\n",
      "Epoch: 0015 Avg. cost = 0.02371 Train Accuracy:  0.998200 Test Accuracy:  0.944000\n",
      "Epoch: 0016 Avg. cost = 0.02787 Train Accuracy:  0.998500 Test Accuracy:  0.942125\n",
      "Epoch: 0017 Avg. cost = 0.02515 Train Accuracy:  0.999000 Test Accuracy:  0.946875\n",
      "Epoch: 0018 Avg. cost = 0.02013 Train Accuracy:  0.998950 Test Accuracy:  0.945250\n",
      "Epoch: 0019 Avg. cost = 0.01682 Train Accuracy:  0.999300 Test Accuracy:  0.950250\n",
      "Epoch: 0020 Avg. cost = 0.02010 Train Accuracy:  0.998500 Test Accuracy:  0.953250\n",
      "Epoch: 0021 Avg. cost = 0.02812 Train Accuracy:  0.998700 Test Accuracy:  0.951375\n",
      "Epoch: 0022 Avg. cost = 0.01780 Train Accuracy:  0.999050 Test Accuracy:  0.949750\n",
      "Epoch: 0023 Avg. cost = 0.01443 Train Accuracy:  0.999700 Test Accuracy:  0.950625\n",
      "Epoch: 0024 Avg. cost = 0.01556 Train Accuracy:  0.999400 Test Accuracy:  0.950375\n",
      "Epoch: 0025 Avg. cost = 0.00931 Train Accuracy:  0.999600 Test Accuracy:  0.944125\n",
      "Epoch: 0026 Avg. cost = 0.01931 Train Accuracy:  0.998000 Test Accuracy:  0.939250\n",
      "Epoch: 0027 Avg. cost = 0.01829 Train Accuracy:  0.998900 Test Accuracy:  0.949750\n",
      "Epoch: 0028 Avg. cost = 0.01939 Train Accuracy:  0.999600 Test Accuracy:  0.950875\n",
      "Epoch: 0029 Avg. cost = 0.01030 Train Accuracy:  0.999550 Test Accuracy:  0.955875\n",
      "Epoch: 0030 Avg. cost = 0.01728 Train Accuracy:  0.999300 Test Accuracy:  0.954125\n",
      "Epoch: 0031 Avg. cost = 0.01391 Train Accuracy:  0.999800 Test Accuracy:  0.956750\n",
      "Epoch: 0032 Avg. cost = 0.00918 Train Accuracy:  0.999700 Test Accuracy:  0.956125\n",
      "Epoch: 0033 Avg. cost = 0.01016 Train Accuracy:  0.999550 Test Accuracy:  0.958625\n",
      "Epoch: 0034 Avg. cost = 0.01410 Train Accuracy:  0.999350 Test Accuracy:  0.957750\n",
      "Epoch: 0035 Avg. cost = 0.01922 Train Accuracy:  0.998900 Test Accuracy:  0.948500\n",
      "Epoch: 0036 Avg. cost = 0.01160 Train Accuracy:  0.999250 Test Accuracy:  0.957500\n",
      "Epoch: 0037 Avg. cost = 0.01345 Train Accuracy:  0.999500 Test Accuracy:  0.951250\n",
      "Epoch: 0038 Avg. cost = 0.01753 Train Accuracy:  0.998850 Test Accuracy:  0.948875\n",
      "Epoch: 0039 Avg. cost = 0.01202 Train Accuracy:  0.999500 Test Accuracy:  0.954500\n",
      "Epoch: 0040 Avg. cost = 0.01060 Train Accuracy:  0.999700 Test Accuracy:  0.954875\n",
      "Epoch: 0041 Avg. cost = 0.00927 Train Accuracy:  0.999850 Test Accuracy:  0.964250\n",
      "Epoch: 0042 Avg. cost = 0.00643 Train Accuracy:  0.999900 Test Accuracy:  0.961000\n",
      "Epoch: 0043 Avg. cost = 0.00810 Train Accuracy:  0.999700 Test Accuracy:  0.958375\n",
      "Epoch: 0044 Avg. cost = 0.00748 Train Accuracy:  0.999950 Test Accuracy:  0.956250\n",
      "Epoch: 0045 Avg. cost = 0.01146 Train Accuracy:  0.999800 Test Accuracy:  0.952125\n",
      "Epoch: 0046 Avg. cost = 0.00926 Train Accuracy:  0.999400 Test Accuracy:  0.948250\n",
      "Epoch: 0047 Avg. cost = 0.00837 Train Accuracy:  0.999800 Test Accuracy:  0.958625\n",
      "Epoch: 0048 Avg. cost = 0.00662 Train Accuracy:  0.999750 Test Accuracy:  0.958500\n",
      "Epoch: 0049 Avg. cost = 0.01031 Train Accuracy:  0.999250 Test Accuracy:  0.952625\n",
      "Epoch: 0050 Avg. cost = 0.01318 Train Accuracy:  0.997900 Test Accuracy:  0.960375\n",
      "Epoch: 0051 Avg. cost = 0.01874 Train Accuracy:  0.999900 Test Accuracy:  0.956250\n",
      "Epoch: 0052 Avg. cost = 0.01002 Train Accuracy:  0.999550 Test Accuracy:  0.952125\n",
      "Epoch: 0053 Avg. cost = 0.00971 Train Accuracy:  0.999400 Test Accuracy:  0.962500\n",
      "Epoch: 0054 Avg. cost = 0.01294 Train Accuracy:  0.999900 Test Accuracy:  0.956875\n",
      "Epoch: 0055 Avg. cost = 0.00737 Train Accuracy:  0.999900 Test Accuracy:  0.959250\n",
      "Epoch: 0056 Avg. cost = 0.00735 Train Accuracy:  0.999500 Test Accuracy:  0.956125\n",
      "Epoch: 0057 Avg. cost = 0.00775 Train Accuracy:  0.999600 Test Accuracy:  0.960500\n",
      "Epoch: 0058 Avg. cost = 0.00530 Train Accuracy:  0.999800 Test Accuracy:  0.954625\n",
      "Epoch: 0059 Avg. cost = 0.00587 Train Accuracy:  0.999750 Test Accuracy:  0.958250\n",
      "Epoch: 0060 Avg. cost = 0.01039 Train Accuracy:  0.999600 Test Accuracy:  0.952250\n",
      "Epoch: 0061 Avg. cost = 0.00777 Train Accuracy:  0.999550 Test Accuracy:  0.953625\n",
      "Epoch: 0062 Avg. cost = 0.00693 Train Accuracy:  0.999800 Test Accuracy:  0.954500\n",
      "Epoch: 0063 Avg. cost = 0.00519 Train Accuracy:  0.999700 Test Accuracy:  0.959375\n",
      "Epoch: 0064 Avg. cost = 0.00695 Train Accuracy:  0.999550 Test Accuracy:  0.961750\n",
      "Epoch: 0065 Avg. cost = 0.00549 Train Accuracy:  0.999750 Test Accuracy:  0.956500\n",
      "Epoch: 0066 Avg. cost = 0.00814 Train Accuracy:  0.999600 Test Accuracy:  0.947000\n",
      "Epoch: 0067 Avg. cost = 0.00990 Train Accuracy:  0.999700 Test Accuracy:  0.958250\n",
      "Epoch: 0068 Avg. cost = 0.01125 Train Accuracy:  0.999050 Test Accuracy:  0.955125\n",
      "Epoch: 0069 Avg. cost = 0.00598 Train Accuracy:  0.999850 Test Accuracy:  0.962250\n",
      "Epoch: 0070 Avg. cost = 0.00747 Train Accuracy:  0.999800 Test Accuracy:  0.958375\n",
      "Epoch: 0071 Avg. cost = 0.00528 Train Accuracy:  0.999750 Test Accuracy:  0.960125\n",
      "Epoch: 0072 Avg. cost = 0.00666 Train Accuracy:  0.999800 Test Accuracy:  0.961000\n",
      "Epoch: 0073 Avg. cost = 0.00698 Train Accuracy:  0.999500 Test Accuracy:  0.959000\n",
      "Epoch: 0074 Avg. cost = 0.01221 Train Accuracy:  0.999650 Test Accuracy:  0.960625\n",
      "Epoch: 0075 Avg. cost = 0.00973 Train Accuracy:  0.999600 Test Accuracy:  0.955375\n",
      "Epoch: 0076 Avg. cost = 0.00395 Train Accuracy:  0.999900 Test Accuracy:  0.961500\n",
      "Epoch: 0077 Avg. cost = 0.00525 Train Accuracy:  0.999800 Test Accuracy:  0.967250\n",
      "Epoch: 0078 Avg. cost = 0.00939 Train Accuracy:  0.999750 Test Accuracy:  0.966125\n",
      "Epoch: 0079 Avg. cost = 0.00750 Train Accuracy:  0.999650 Test Accuracy:  0.960500\n",
      "Epoch: 0080 Avg. cost = 0.00390 Train Accuracy:  0.999900 Test Accuracy:  0.961750\n",
      "Epoch: 0081 Avg. cost = 0.00390 Train Accuracy:  0.999850 Test Accuracy:  0.960125\n",
      "Epoch: 0082 Avg. cost = 0.00509 Train Accuracy:  0.999800 Test Accuracy:  0.960375\n",
      "Epoch: 0083 Avg. cost = 0.00696 Train Accuracy:  0.999250 Test Accuracy:  0.956250\n",
      "Epoch: 0084 Avg. cost = 0.00965 Train Accuracy:  0.999300 Test Accuracy:  0.961625\n",
      "Epoch: 0085 Avg. cost = 0.00667 Train Accuracy:  0.999650 Test Accuracy:  0.965625\n",
      "Epoch: 0086 Avg. cost = 0.00705 Train Accuracy:  0.999250 Test Accuracy:  0.962250\n",
      "Epoch: 0087 Avg. cost = 0.00598 Train Accuracy:  0.999750 Test Accuracy:  0.965750\n",
      "Epoch: 0088 Avg. cost = 0.00308 Train Accuracy:  0.999850 Test Accuracy:  0.963750\n",
      "Epoch: 0089 Avg. cost = 0.00394 Train Accuracy:  0.999850 Test Accuracy:  0.966500\n",
      "Epoch: 0090 Avg. cost = 0.00381 Train Accuracy:  0.999850 Test Accuracy:  0.963000\n",
      "Epoch: 0091 Avg. cost = 0.00739 Train Accuracy:  0.999800 Test Accuracy:  0.957625\n",
      "Epoch: 0092 Avg. cost = 0.00788 Train Accuracy:  0.999000 Test Accuracy:  0.949875\n",
      "Epoch: 0093 Avg. cost = 0.00888 Train Accuracy:  0.999700 Test Accuracy:  0.953250\n",
      "Epoch: 0094 Avg. cost = 0.00673 Train Accuracy:  0.999350 Test Accuracy:  0.964500\n",
      "Epoch: 0095 Avg. cost = 0.00434 Train Accuracy:  0.999850 Test Accuracy:  0.962250\n",
      "Epoch: 0096 Avg. cost = 0.00356 Train Accuracy:  0.999750 Test Accuracy:  0.959375\n",
      "Epoch: 0097 Avg. cost = 0.00316 Train Accuracy:  0.999450 Test Accuracy:  0.966625\n",
      "Epoch: 0098 Avg. cost = 0.00642 Train Accuracy:  0.999800 Test Accuracy:  0.962500\n",
      "Epoch: 0099 Avg. cost = 0.00604 Train Accuracy:  0.999750 Test Accuracy:  0.966625\n",
      "Epoch: 0100 Avg. cost = 0.00126 Train Accuracy:  0.999900 Test Accuracy:  0.961375\n",
      "Model saved in file: ./model_saver/Resnet_Model_1_model_saver/Resnet_Model_1_model_save\n",
      "Wall time: 3h 45min 40s\n"
     ]
    }
   ],
   "source": [
    "%%time\n",
    "tf.set_random_seed(777)\n",
    "resnet_model = Resnet_Model(sess=tf.Session(), model_name=\"Resnet_Model_1\", learning_rate=0.0001, keep_prob=0.5)\n",
    "resnet_model.summary(summary_directory = './logs/Resnet_Model_1_log')\n",
    "model_training = Model_Training(model_instance = resnet_model, \n",
    "                                train_data = train_data, train_labels = train_labels, \n",
    "                                test_data = test_data, test_labels = test_labels)\n",
    "model_training.shuffle_batch(batch_size = 100, capacity = 10000, min_after_dequeue = 10, seed=10)\n",
    "model_training.model_saver(directory = \"./model_saver/Resnet_Model_1_model_saver/Resnet_Model_1_model_save\", saver = tf.train.Saver())\n",
    "model_training.train_model(epoch = 100, init=tf.global_variables_initializer())\n",
    "\n",
    "np.savetxt('resnet_train_acc_list.txt', model_training.train_acc_list)\n",
    "np.savetxt('resnet_test_acc_list.txt', model_training.test_acc_list)\n",
    "np.savetxt('resnet_cost_list.txt', model_training.cost_list)"
   ]
  },
  {
   "cell_type": "code",
   "execution_count": null,
   "metadata": {
    "collapsed": true
   },
   "outputs": [],
   "source": []
  },
  {
   "cell_type": "code",
   "execution_count": null,
   "metadata": {
    "collapsed": true
   },
   "outputs": [],
   "source": []
  },
  {
   "cell_type": "code",
   "execution_count": null,
   "metadata": {
    "collapsed": true
   },
   "outputs": [],
   "source": []
  },
  {
   "cell_type": "code",
   "execution_count": null,
   "metadata": {
    "collapsed": true
   },
   "outputs": [],
   "source": []
  },
  {
   "cell_type": "code",
   "execution_count": null,
   "metadata": {
    "collapsed": true
   },
   "outputs": [],
   "source": []
  },
  {
   "cell_type": "code",
   "execution_count": null,
   "metadata": {
    "collapsed": true
   },
   "outputs": [],
   "source": []
  },
  {
   "cell_type": "code",
   "execution_count": null,
   "metadata": {
    "collapsed": true
   },
   "outputs": [],
   "source": []
  },
  {
   "cell_type": "code",
   "execution_count": null,
   "metadata": {
    "collapsed": true
   },
   "outputs": [],
   "source": [
    " "
   ]
  },
  {
   "cell_type": "code",
   "execution_count": null,
   "metadata": {
    "collapsed": true
   },
   "outputs": [],
   "source": []
  },
  {
   "cell_type": "code",
   "execution_count": null,
   "metadata": {
    "collapsed": true
   },
   "outputs": [],
   "source": []
  },
  {
   "cell_type": "code",
   "execution_count": null,
   "metadata": {
    "collapsed": true
   },
   "outputs": [],
   "source": []
  }
 ],
 "metadata": {
  "kernelspec": {
   "display_name": "Python 3",
   "language": "python",
   "name": "python3"
  },
  "language_info": {
   "codemirror_mode": {
    "name": "ipython",
    "version": 3
   },
   "file_extension": ".py",
   "mimetype": "text/x-python",
   "name": "python",
   "nbconvert_exporter": "python",
   "pygments_lexer": "ipython3",
   "version": "3.6.0"
  }
 },
 "nbformat": 4,
 "nbformat_minor": 2
}
