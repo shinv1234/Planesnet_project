{
 "cells": [
  {
   "cell_type": "code",
   "execution_count": 1,
   "metadata": {
    "collapsed": false
   },
   "outputs": [
    {
     "name": "stdout",
     "output_type": "stream",
     "text": [
      "Wall time: 20.3 s\n"
     ]
    }
   ],
   "source": [
    "%%time\n",
    "from load_planesnet import load_planesnet\n",
    "from models import Plain_Model, Model_Training\n",
    "import numpy as np\n",
    "import tensorflow as tf\n",
    "import matplotlib.pyplot as plt\n",
    "%matplotlib inline"
   ]
  },
  {
   "cell_type": "code",
   "execution_count": 2,
   "metadata": {
    "collapsed": false
   },
   "outputs": [
    {
     "name": "stdout",
     "output_type": "stream",
     "text": [
      "Wall time: 902 ms\n"
     ]
    }
   ],
   "source": [
    "%%time\n",
    "train_data, train_labels, test_data, test_labels = load_planesnet(r'planesnet.pklz', 20000, 777)"
   ]
  },
  {
   "cell_type": "code",
   "execution_count": 20,
   "metadata": {
    "collapsed": false
   },
   "outputs": [
    {
     "name": "stdout",
     "output_type": "stream",
     "text": [
      "Epoch: 0001 Avg. cost = 0.82852 Train Accuracy:  0.881700 Test Accuracy:  0.609625\n",
      "Epoch: 0002 Avg. cost = 0.54454 Train Accuracy:  0.884750 Test Accuracy:  0.664500\n",
      "Epoch: 0003 Avg. cost = 0.46205 Train Accuracy:  0.917850 Test Accuracy:  0.725250\n",
      "Epoch: 0004 Avg. cost = 0.36210 Train Accuracy:  0.925700 Test Accuracy:  0.754750\n",
      "Epoch: 0005 Avg. cost = 0.31712 Train Accuracy:  0.949450 Test Accuracy:  0.689750\n",
      "Epoch: 0006 Avg. cost = 0.28194 Train Accuracy:  0.952250 Test Accuracy:  0.687000\n",
      "Epoch: 0007 Avg. cost = 0.27099 Train Accuracy:  0.952550 Test Accuracy:  0.740250\n",
      "Epoch: 0008 Avg. cost = 0.24582 Train Accuracy:  0.953450 Test Accuracy:  0.747750\n",
      "Epoch: 0009 Avg. cost = 0.23689 Train Accuracy:  0.958050 Test Accuracy:  0.748000\n",
      "Epoch: 0010 Avg. cost = 0.22986 Train Accuracy:  0.957400 Test Accuracy:  0.774875\n",
      "Epoch: 0011 Avg. cost = 0.22263 Train Accuracy:  0.956350 Test Accuracy:  0.810125\n",
      "Epoch: 0012 Avg. cost = 0.20656 Train Accuracy:  0.945900 Test Accuracy:  0.819625\n",
      "Epoch: 0013 Avg. cost = 0.20465 Train Accuracy:  0.961050 Test Accuracy:  0.741375\n",
      "Epoch: 0014 Avg. cost = 0.20280 Train Accuracy:  0.959700 Test Accuracy:  0.819375\n",
      "Epoch: 0015 Avg. cost = 0.19036 Train Accuracy:  0.965200 Test Accuracy:  0.804750\n",
      "Epoch: 0016 Avg. cost = 0.18788 Train Accuracy:  0.961850 Test Accuracy:  0.844875\n",
      "Epoch: 0017 Avg. cost = 0.18404 Train Accuracy:  0.964800 Test Accuracy:  0.786000\n",
      "Epoch: 0018 Avg. cost = 0.17683 Train Accuracy:  0.967000 Test Accuracy:  0.781875\n",
      "Epoch: 0019 Avg. cost = 0.17067 Train Accuracy:  0.967650 Test Accuracy:  0.778250\n",
      "Epoch: 0020 Avg. cost = 0.17061 Train Accuracy:  0.964000 Test Accuracy:  0.767875\n",
      "Epoch: 0021 Avg. cost = 0.16849 Train Accuracy:  0.962250 Test Accuracy:  0.727250\n",
      "Epoch: 0022 Avg. cost = 0.17051 Train Accuracy:  0.968750 Test Accuracy:  0.814250\n",
      "Epoch: 0023 Avg. cost = 0.15620 Train Accuracy:  0.967800 Test Accuracy:  0.836125\n",
      "Epoch: 0024 Avg. cost = 0.15929 Train Accuracy:  0.970850 Test Accuracy:  0.806375\n",
      "Epoch: 0025 Avg. cost = 0.14951 Train Accuracy:  0.970300 Test Accuracy:  0.828125\n",
      "Epoch: 0026 Avg. cost = 0.15073 Train Accuracy:  0.968850 Test Accuracy:  0.787375\n",
      "Epoch: 0027 Avg. cost = 0.15248 Train Accuracy:  0.970600 Test Accuracy:  0.810625\n",
      "Epoch: 0028 Avg. cost = 0.14511 Train Accuracy:  0.968100 Test Accuracy:  0.853250\n",
      "Epoch: 0029 Avg. cost = 0.13441 Train Accuracy:  0.970000 Test Accuracy:  0.880500\n",
      "Epoch: 0030 Avg. cost = 0.14104 Train Accuracy:  0.975600 Test Accuracy:  0.860625\n",
      "Epoch: 0031 Avg. cost = 0.12472 Train Accuracy:  0.970250 Test Accuracy:  0.877750\n",
      "Epoch: 0032 Avg. cost = 0.13406 Train Accuracy:  0.973650 Test Accuracy:  0.811250\n",
      "Epoch: 0033 Avg. cost = 0.12369 Train Accuracy:  0.974150 Test Accuracy:  0.871500\n",
      "Epoch: 0034 Avg. cost = 0.12815 Train Accuracy:  0.976000 Test Accuracy:  0.835500\n",
      "Epoch: 0035 Avg. cost = 0.12321 Train Accuracy:  0.974800 Test Accuracy:  0.844000\n",
      "Epoch: 0036 Avg. cost = 0.12613 Train Accuracy:  0.967400 Test Accuracy:  0.899125\n",
      "Epoch: 0037 Avg. cost = 0.12401 Train Accuracy:  0.969150 Test Accuracy:  0.905125\n",
      "Epoch: 0038 Avg. cost = 0.11881 Train Accuracy:  0.976600 Test Accuracy:  0.837625\n",
      "Epoch: 0039 Avg. cost = 0.11489 Train Accuracy:  0.974950 Test Accuracy:  0.815125\n",
      "Epoch: 0040 Avg. cost = 0.11647 Train Accuracy:  0.975100 Test Accuracy:  0.813125\n",
      "Epoch: 0041 Avg. cost = 0.11180 Train Accuracy:  0.974950 Test Accuracy:  0.892750\n",
      "Epoch: 0042 Avg. cost = 0.10556 Train Accuracy:  0.964050 Test Accuracy:  0.919125\n",
      "Epoch: 0043 Avg. cost = 0.11021 Train Accuracy:  0.976000 Test Accuracy:  0.831875\n",
      "Epoch: 0044 Avg. cost = 0.10753 Train Accuracy:  0.978750 Test Accuracy:  0.872250\n",
      "Epoch: 0045 Avg. cost = 0.11888 Train Accuracy:  0.977250 Test Accuracy:  0.891750\n",
      "Epoch: 0046 Avg. cost = 0.11569 Train Accuracy:  0.977050 Test Accuracy:  0.824000\n",
      "Epoch: 0047 Avg. cost = 0.10395 Train Accuracy:  0.976500 Test Accuracy:  0.884500\n",
      "Epoch: 0048 Avg. cost = 0.10482 Train Accuracy:  0.976750 Test Accuracy:  0.889625\n",
      "Epoch: 0049 Avg. cost = 0.10387 Train Accuracy:  0.979650 Test Accuracy:  0.882000\n",
      "Epoch: 0050 Avg. cost = 0.09161 Train Accuracy:  0.971100 Test Accuracy:  0.917750\n",
      "Epoch: 0051 Avg. cost = 0.10206 Train Accuracy:  0.979650 Test Accuracy:  0.877750\n",
      "Epoch: 0052 Avg. cost = 0.09868 Train Accuracy:  0.980850 Test Accuracy:  0.857500\n",
      "Epoch: 0053 Avg. cost = 0.09319 Train Accuracy:  0.979300 Test Accuracy:  0.826375\n",
      "Epoch: 0054 Avg. cost = 0.09728 Train Accuracy:  0.977300 Test Accuracy:  0.873500\n",
      "Epoch: 0055 Avg. cost = 0.09792 Train Accuracy:  0.981100 Test Accuracy:  0.870500\n",
      "Epoch: 0056 Avg. cost = 0.09772 Train Accuracy:  0.980600 Test Accuracy:  0.883250\n",
      "Epoch: 0057 Avg. cost = 0.08959 Train Accuracy:  0.972600 Test Accuracy:  0.795250\n",
      "Epoch: 0058 Avg. cost = 0.09373 Train Accuracy:  0.980950 Test Accuracy:  0.860500\n",
      "Epoch: 0059 Avg. cost = 0.09754 Train Accuracy:  0.982100 Test Accuracy:  0.869125\n",
      "Epoch: 0060 Avg. cost = 0.08583 Train Accuracy:  0.982050 Test Accuracy:  0.894000\n",
      "Epoch: 0061 Avg. cost = 0.09339 Train Accuracy:  0.982950 Test Accuracy:  0.887125\n",
      "Epoch: 0062 Avg. cost = 0.08669 Train Accuracy:  0.979700 Test Accuracy:  0.900750\n",
      "Epoch: 0063 Avg. cost = 0.08588 Train Accuracy:  0.981950 Test Accuracy:  0.871125\n",
      "Epoch: 0064 Avg. cost = 0.08931 Train Accuracy:  0.981400 Test Accuracy:  0.853375\n",
      "Epoch: 0065 Avg. cost = 0.08940 Train Accuracy:  0.981050 Test Accuracy:  0.847875\n",
      "Epoch: 0066 Avg. cost = 0.08688 Train Accuracy:  0.979650 Test Accuracy:  0.848250\n",
      "Epoch: 0067 Avg. cost = 0.09412 Train Accuracy:  0.980550 Test Accuracy:  0.879375\n",
      "Epoch: 0068 Avg. cost = 0.08369 Train Accuracy:  0.981600 Test Accuracy:  0.898750\n",
      "Epoch: 0069 Avg. cost = 0.09326 Train Accuracy:  0.983300 Test Accuracy:  0.876750\n",
      "Epoch: 0070 Avg. cost = 0.08292 Train Accuracy:  0.982550 Test Accuracy:  0.913000\n",
      "Epoch: 0071 Avg. cost = 0.08361 Train Accuracy:  0.983900 Test Accuracy:  0.889125\n",
      "Epoch: 0072 Avg. cost = 0.08679 Train Accuracy:  0.982550 Test Accuracy:  0.881000\n",
      "Epoch: 0073 Avg. cost = 0.08859 Train Accuracy:  0.983600 Test Accuracy:  0.881875\n",
      "Epoch: 0074 Avg. cost = 0.07885 Train Accuracy:  0.978150 Test Accuracy:  0.848625\n",
      "Epoch: 0075 Avg. cost = 0.08413 Train Accuracy:  0.983450 Test Accuracy:  0.855750\n",
      "Epoch: 0076 Avg. cost = 0.08337 Train Accuracy:  0.983350 Test Accuracy:  0.900250\n",
      "Epoch: 0077 Avg. cost = 0.07326 Train Accuracy:  0.982350 Test Accuracy:  0.904125\n",
      "Epoch: 0078 Avg. cost = 0.07902 Train Accuracy:  0.981250 Test Accuracy:  0.858375\n",
      "Epoch: 0079 Avg. cost = 0.07881 Train Accuracy:  0.981350 Test Accuracy:  0.891750\n",
      "Epoch: 0080 Avg. cost = 0.07872 Train Accuracy:  0.980050 Test Accuracy:  0.870500\n",
      "Epoch: 0081 Avg. cost = 0.07903 Train Accuracy:  0.983650 Test Accuracy:  0.893500\n",
      "Epoch: 0082 Avg. cost = 0.07591 Train Accuracy:  0.982750 Test Accuracy:  0.857125\n",
      "Epoch: 0083 Avg. cost = 0.08166 Train Accuracy:  0.981250 Test Accuracy:  0.916125\n",
      "Epoch: 0084 Avg. cost = 0.07368 Train Accuracy:  0.982950 Test Accuracy:  0.906000\n",
      "Epoch: 0085 Avg. cost = 0.07809 Train Accuracy:  0.984050 Test Accuracy:  0.884375\n",
      "Epoch: 0086 Avg. cost = 0.07206 Train Accuracy:  0.981050 Test Accuracy:  0.836625\n",
      "Epoch: 0087 Avg. cost = 0.08031 Train Accuracy:  0.985100 Test Accuracy:  0.890500\n",
      "Epoch: 0088 Avg. cost = 0.07326 Train Accuracy:  0.984100 Test Accuracy:  0.909625\n",
      "Epoch: 0089 Avg. cost = 0.07079 Train Accuracy:  0.984550 Test Accuracy:  0.883375\n",
      "Epoch: 0090 Avg. cost = 0.08045 Train Accuracy:  0.985350 Test Accuracy:  0.891250\n",
      "Epoch: 0091 Avg. cost = 0.07487 Train Accuracy:  0.982200 Test Accuracy:  0.906875\n",
      "Epoch: 0092 Avg. cost = 0.07089 Train Accuracy:  0.983900 Test Accuracy:  0.892500\n",
      "Epoch: 0093 Avg. cost = 0.07077 Train Accuracy:  0.986450 Test Accuracy:  0.885625\n",
      "Epoch: 0094 Avg. cost = 0.06766 Train Accuracy:  0.982150 Test Accuracy:  0.838000\n",
      "Epoch: 0095 Avg. cost = 0.07156 Train Accuracy:  0.984800 Test Accuracy:  0.859500\n",
      "Epoch: 0096 Avg. cost = 0.06641 Train Accuracy:  0.986000 Test Accuracy:  0.884625\n",
      "Epoch: 0097 Avg. cost = 0.06869 Train Accuracy:  0.985850 Test Accuracy:  0.899500\n",
      "Epoch: 0098 Avg. cost = 0.07198 Train Accuracy:  0.985700 Test Accuracy:  0.866625\n",
      "Epoch: 0099 Avg. cost = 0.06901 Train Accuracy:  0.985100 Test Accuracy:  0.906375\n",
      "Epoch: 0100 Avg. cost = 0.06290 Train Accuracy:  0.985150 Test Accuracy:  0.911875\n",
      "Epoch: 0101 Avg. cost = 0.06854 Train Accuracy:  0.985550 Test Accuracy:  0.875750\n",
      "Epoch: 0102 Avg. cost = 0.06678 Train Accuracy:  0.987350 Test Accuracy:  0.891125\n",
      "Epoch: 0103 Avg. cost = 0.06216 Train Accuracy:  0.986550 Test Accuracy:  0.906625\n",
      "Epoch: 0104 Avg. cost = 0.07045 Train Accuracy:  0.986200 Test Accuracy:  0.876625\n",
      "Epoch: 0105 Avg. cost = 0.06465 Train Accuracy:  0.982050 Test Accuracy:  0.837500\n",
      "Epoch: 0106 Avg. cost = 0.06529 Train Accuracy:  0.982850 Test Accuracy:  0.920500\n",
      "Epoch: 0107 Avg. cost = 0.06825 Train Accuracy:  0.986100 Test Accuracy:  0.886875\n",
      "Epoch: 0108 Avg. cost = 0.05755 Train Accuracy:  0.980650 Test Accuracy:  0.816625\n",
      "Epoch: 0109 Avg. cost = 0.06551 Train Accuracy:  0.982900 Test Accuracy:  0.918375\n",
      "Epoch: 0110 Avg. cost = 0.06774 Train Accuracy:  0.987500 Test Accuracy:  0.893750\n",
      "Epoch: 0111 Avg. cost = 0.05214 Train Accuracy:  0.987650 Test Accuracy:  0.898750\n",
      "Epoch: 0112 Avg. cost = 0.06310 Train Accuracy:  0.986800 Test Accuracy:  0.876125\n",
      "Epoch: 0113 Avg. cost = 0.05904 Train Accuracy:  0.979300 Test Accuracy:  0.820750\n",
      "Epoch: 0114 Avg. cost = 0.06229 Train Accuracy:  0.987650 Test Accuracy:  0.884625\n",
      "Epoch: 0115 Avg. cost = 0.05750 Train Accuracy:  0.978450 Test Accuracy:  0.928125\n",
      "Epoch: 0116 Avg. cost = 0.06268 Train Accuracy:  0.986900 Test Accuracy:  0.910000\n",
      "Epoch: 0117 Avg. cost = 0.06524 Train Accuracy:  0.987800 Test Accuracy:  0.905500\n",
      "Epoch: 0118 Avg. cost = 0.05306 Train Accuracy:  0.986250 Test Accuracy:  0.876875\n",
      "Epoch: 0119 Avg. cost = 0.05868 Train Accuracy:  0.983600 Test Accuracy:  0.922125\n",
      "Epoch: 0120 Avg. cost = 0.06060 Train Accuracy:  0.988150 Test Accuracy:  0.896375\n",
      "Epoch: 0121 Avg. cost = 0.05909 Train Accuracy:  0.986800 Test Accuracy:  0.864875\n",
      "Epoch: 0122 Avg. cost = 0.05519 Train Accuracy:  0.987700 Test Accuracy:  0.892875\n",
      "Epoch: 0123 Avg. cost = 0.05276 Train Accuracy:  0.988400 Test Accuracy:  0.890875\n",
      "Epoch: 0124 Avg. cost = 0.05820 Train Accuracy:  0.988750 Test Accuracy:  0.900375\n",
      "Epoch: 0125 Avg. cost = 0.05079 Train Accuracy:  0.988900 Test Accuracy:  0.883500\n",
      "Epoch: 0126 Avg. cost = 0.05971 Train Accuracy:  0.981750 Test Accuracy:  0.822250\n",
      "Epoch: 0127 Avg. cost = 0.05601 Train Accuracy:  0.988450 Test Accuracy:  0.900625\n",
      "Epoch: 0128 Avg. cost = 0.05257 Train Accuracy:  0.989250 Test Accuracy:  0.885625\n",
      "Epoch: 0129 Avg. cost = 0.05390 Train Accuracy:  0.988900 Test Accuracy:  0.912000\n",
      "Epoch: 0130 Avg. cost = 0.05749 Train Accuracy:  0.986950 Test Accuracy:  0.908625\n",
      "Epoch: 0131 Avg. cost = 0.05994 Train Accuracy:  0.987900 Test Accuracy:  0.914250\n",
      "Epoch: 0132 Avg. cost = 0.05196 Train Accuracy:  0.988400 Test Accuracy:  0.896125\n",
      "Epoch: 0133 Avg. cost = 0.05747 Train Accuracy:  0.988350 Test Accuracy:  0.914625\n",
      "Epoch: 0134 Avg. cost = 0.04720 Train Accuracy:  0.989000 Test Accuracy:  0.892500\n",
      "Epoch: 0135 Avg. cost = 0.05122 Train Accuracy:  0.989900 Test Accuracy:  0.901125\n",
      "Epoch: 0136 Avg. cost = 0.05876 Train Accuracy:  0.986600 Test Accuracy:  0.914250\n",
      "Epoch: 0137 Avg. cost = 0.04538 Train Accuracy:  0.988700 Test Accuracy:  0.867875\n",
      "Epoch: 0138 Avg. cost = 0.05185 Train Accuracy:  0.990350 Test Accuracy:  0.886500\n",
      "Epoch: 0139 Avg. cost = 0.05347 Train Accuracy:  0.990000 Test Accuracy:  0.892750\n",
      "Epoch: 0140 Avg. cost = 0.04914 Train Accuracy:  0.989450 Test Accuracy:  0.889250\n",
      "Epoch: 0141 Avg. cost = 0.05303 Train Accuracy:  0.987650 Test Accuracy:  0.864375\n",
      "Epoch: 0142 Avg. cost = 0.04986 Train Accuracy:  0.988300 Test Accuracy:  0.890375\n",
      "Epoch: 0143 Avg. cost = 0.04582 Train Accuracy:  0.989600 Test Accuracy:  0.891000\n",
      "Epoch: 0144 Avg. cost = 0.05130 Train Accuracy:  0.989700 Test Accuracy:  0.904875\n",
      "Epoch: 0145 Avg. cost = 0.05396 Train Accuracy:  0.990000 Test Accuracy:  0.892500\n",
      "Epoch: 0146 Avg. cost = 0.04982 Train Accuracy:  0.984550 Test Accuracy:  0.925000\n",
      "Epoch: 0147 Avg. cost = 0.04074 Train Accuracy:  0.988450 Test Accuracy:  0.878250\n",
      "Epoch: 0148 Avg. cost = 0.05020 Train Accuracy:  0.989800 Test Accuracy:  0.902750\n",
      "Epoch: 0149 Avg. cost = 0.04874 Train Accuracy:  0.990200 Test Accuracy:  0.907125\n",
      "Epoch: 0150 Avg. cost = 0.04578 Train Accuracy:  0.990000 Test Accuracy:  0.901625\n",
      "Epoch: 0151 Avg. cost = 0.04614 Train Accuracy:  0.990200 Test Accuracy:  0.890500\n",
      "Epoch: 0152 Avg. cost = 0.05158 Train Accuracy:  0.990700 Test Accuracy:  0.896000\n",
      "Epoch: 0153 Avg. cost = 0.04137 Train Accuracy:  0.989000 Test Accuracy:  0.907000\n",
      "Epoch: 0154 Avg. cost = 0.04516 Train Accuracy:  0.990250 Test Accuracy:  0.894000\n",
      "Epoch: 0155 Avg. cost = 0.04179 Train Accuracy:  0.990350 Test Accuracy:  0.883625\n",
      "Epoch: 0156 Avg. cost = 0.04702 Train Accuracy:  0.988000 Test Accuracy:  0.917500\n",
      "Epoch: 0157 Avg. cost = 0.04842 Train Accuracy:  0.991200 Test Accuracy:  0.910250\n",
      "Epoch: 0158 Avg. cost = 0.05101 Train Accuracy:  0.990700 Test Accuracy:  0.905000\n",
      "Epoch: 0159 Avg. cost = 0.04266 Train Accuracy:  0.990900 Test Accuracy:  0.897375\n",
      "Epoch: 0160 Avg. cost = 0.04045 Train Accuracy:  0.988850 Test Accuracy:  0.913125\n",
      "Epoch: 0161 Avg. cost = 0.05025 Train Accuracy:  0.984150 Test Accuracy:  0.931000\n",
      "Epoch: 0162 Avg. cost = 0.04350 Train Accuracy:  0.985250 Test Accuracy:  0.923750\n",
      "Epoch: 0163 Avg. cost = 0.03993 Train Accuracy:  0.989100 Test Accuracy:  0.870625\n",
      "Epoch: 0164 Avg. cost = 0.05082 Train Accuracy:  0.990550 Test Accuracy:  0.910750\n",
      "Epoch: 0165 Avg. cost = 0.04677 Train Accuracy:  0.987500 Test Accuracy:  0.925375\n",
      "Epoch: 0166 Avg. cost = 0.03919 Train Accuracy:  0.992050 Test Accuracy:  0.905500\n",
      "Epoch: 0167 Avg. cost = 0.03826 Train Accuracy:  0.989850 Test Accuracy:  0.887000\n",
      "Epoch: 0168 Avg. cost = 0.04720 Train Accuracy:  0.989100 Test Accuracy:  0.916375\n",
      "Epoch: 0169 Avg. cost = 0.04066 Train Accuracy:  0.990900 Test Accuracy:  0.894250\n",
      "Epoch: 0170 Avg. cost = 0.04149 Train Accuracy:  0.989850 Test Accuracy:  0.904875\n",
      "Epoch: 0171 Avg. cost = 0.04013 Train Accuracy:  0.992150 Test Accuracy:  0.906125\n",
      "Epoch: 0172 Avg. cost = 0.04999 Train Accuracy:  0.978650 Test Accuracy:  0.928125\n",
      "Epoch: 0173 Avg. cost = 0.04866 Train Accuracy:  0.984200 Test Accuracy:  0.926375\n",
      "Epoch: 0174 Avg. cost = 0.03688 Train Accuracy:  0.983100 Test Accuracy:  0.832375\n",
      "Epoch: 0175 Avg. cost = 0.04591 Train Accuracy:  0.989750 Test Accuracy:  0.882625\n",
      "Epoch: 0176 Avg. cost = 0.04270 Train Accuracy:  0.991650 Test Accuracy:  0.901875\n",
      "Epoch: 0177 Avg. cost = 0.03825 Train Accuracy:  0.991500 Test Accuracy:  0.886500\n",
      "Epoch: 0178 Avg. cost = 0.04581 Train Accuracy:  0.991650 Test Accuracy:  0.909250\n",
      "Epoch: 0179 Avg. cost = 0.03685 Train Accuracy:  0.990050 Test Accuracy:  0.883875\n",
      "Epoch: 0180 Avg. cost = 0.03725 Train Accuracy:  0.990450 Test Accuracy:  0.902500\n",
      "Epoch: 0181 Avg. cost = 0.03441 Train Accuracy:  0.991250 Test Accuracy:  0.886875\n",
      "Epoch: 0182 Avg. cost = 0.03931 Train Accuracy:  0.988850 Test Accuracy:  0.920500\n",
      "Epoch: 0183 Avg. cost = 0.03971 Train Accuracy:  0.991550 Test Accuracy:  0.909000\n",
      "Epoch: 0184 Avg. cost = 0.03880 Train Accuracy:  0.986050 Test Accuracy:  0.847000\n",
      "Epoch: 0185 Avg. cost = 0.04652 Train Accuracy:  0.989250 Test Accuracy:  0.878125\n",
      "Epoch: 0186 Avg. cost = 0.03484 Train Accuracy:  0.992650 Test Accuracy:  0.895375\n",
      "Epoch: 0187 Avg. cost = 0.03882 Train Accuracy:  0.992750 Test Accuracy:  0.911625\n",
      "Epoch: 0188 Avg. cost = 0.04029 Train Accuracy:  0.989700 Test Accuracy:  0.867000\n",
      "Epoch: 0189 Avg. cost = 0.03700 Train Accuracy:  0.992600 Test Accuracy:  0.915000\n",
      "Epoch: 0190 Avg. cost = 0.03934 Train Accuracy:  0.991400 Test Accuracy:  0.922000\n",
      "Epoch: 0191 Avg. cost = 0.04225 Train Accuracy:  0.988400 Test Accuracy:  0.924250\n",
      "Epoch: 0192 Avg. cost = 0.03768 Train Accuracy:  0.990700 Test Accuracy:  0.876125\n",
      "Epoch: 0193 Avg. cost = 0.04290 Train Accuracy:  0.992550 Test Accuracy:  0.906875\n",
      "Epoch: 0194 Avg. cost = 0.03383 Train Accuracy:  0.991900 Test Accuracy:  0.913375\n",
      "Epoch: 0195 Avg. cost = 0.03592 Train Accuracy:  0.991850 Test Accuracy:  0.904250\n",
      "Epoch: 0196 Avg. cost = 0.03303 Train Accuracy:  0.992450 Test Accuracy:  0.897000\n",
      "Epoch: 0197 Avg. cost = 0.04220 Train Accuracy:  0.992150 Test Accuracy:  0.912250\n",
      "Epoch: 0198 Avg. cost = 0.03502 Train Accuracy:  0.990400 Test Accuracy:  0.886125\n",
      "Epoch: 0199 Avg. cost = 0.04027 Train Accuracy:  0.988050 Test Accuracy:  0.907125\n",
      "Epoch: 0200 Avg. cost = 0.03488 Train Accuracy:  0.991100 Test Accuracy:  0.918250\n",
      "Model saved in file: ./plain_model_save/plain_model_save\n",
      "Wall time: 43min 33s\n",
      "Parser   : 106 ms\n"
     ]
    }
   ],
   "source": [
    "%%time\n",
    "tf.set_random_seed(700)\n",
    "plain_model = Plain_Model(sess=tf.Session(), model_name=\"Plain_Model_1\", learning_rate=0.0001)\n",
    "plain_model.summary(summary_directory = './logs/planesnet_log')\n",
    "model_training = Model_Training(model_instance = plain_model, \n",
    "                                train_data = train_data, train_labels = train_labels, \n",
    "                                test_data = test_data, test_labels = test_labels)\n",
    "model_training.shuffle_batch(batch_size = 100, capacity = 10000, min_after_dequeue = 10, seed=10)\n",
    "model_training.model_saver(directory = \"./plain_model_save/plain_model_save\", saver = tf.train.Saver())\n",
    "model_training.train_model(epoch = 200, init=tf.global_variables_initializer())\n",
    "\n",
    "np.savetxt('plain_model_train_acc_list.txt', model_training.train_acc_list)\n",
    "np.savetxt('plain_model_test_acc_list.txt', model_training.test_acc_list)\n",
    "np.savetxt('plain_model_cost_list.txt', model_training.cost_list)"
   ]
  },
  {
   "cell_type": "code",
   "execution_count": null,
   "metadata": {
    "collapsed": true
   },
   "outputs": [],
   "source": []
  },
  {
   "cell_type": "code",
   "execution_count": null,
   "metadata": {
    "collapsed": true
   },
   "outputs": [],
   "source": []
  },
  {
   "cell_type": "code",
   "execution_count": null,
   "metadata": {
    "collapsed": true
   },
   "outputs": [],
   "source": []
  },
  {
   "cell_type": "code",
   "execution_count": null,
   "metadata": {
    "collapsed": true
   },
   "outputs": [],
   "source": []
  },
  {
   "cell_type": "code",
   "execution_count": null,
   "metadata": {
    "collapsed": true
   },
   "outputs": [],
   "source": []
  },
  {
   "cell_type": "code",
   "execution_count": null,
   "metadata": {
    "collapsed": true
   },
   "outputs": [],
   "source": []
  },
  {
   "cell_type": "code",
   "execution_count": null,
   "metadata": {
    "collapsed": true
   },
   "outputs": [],
   "source": []
  }
 ],
 "metadata": {
  "kernelspec": {
   "display_name": "Python 3",
   "language": "python",
   "name": "python3"
  },
  "language_info": {
   "codemirror_mode": {
    "name": "ipython",
    "version": 3
   },
   "file_extension": ".py",
   "mimetype": "text/x-python",
   "name": "python",
   "nbconvert_exporter": "python",
   "pygments_lexer": "ipython3",
   "version": "3.6.0"
  }
 },
 "nbformat": 4,
 "nbformat_minor": 2
}
